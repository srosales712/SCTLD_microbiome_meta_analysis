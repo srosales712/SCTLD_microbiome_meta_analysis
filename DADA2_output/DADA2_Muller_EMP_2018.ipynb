{
 "cells": [
  {
   "cell_type": "code",
   "execution_count": 10,
   "metadata": {},
   "outputs": [
    {
     "name": "stdout",
     "output_type": "stream",
     "text": [
      "/space/home/rosales/projects/2020_SCTLD_meta-analysis\n"
     ]
    }
   ],
   "source": [
    "%cd /space/home/rosales/projects/2020_SCTLD_meta-analysis/"
   ]
  },
  {
   "cell_type": "code",
   "execution_count": 12,
   "metadata": {},
   "outputs": [
    {
     "name": "stdout",
     "output_type": "stream",
     "text": [
      "\u001b[32mSaved SampleData[PairedEndSequencesWithQuality] to: demux_Muller_EMP_TL67.qza\u001b[0m\n",
      "\u001b[32mSaved ErrorCorrectionDetails to: demux_error_67.qza\u001b[0m\n"
     ]
    }
   ],
   "source": [
    "!qiime demux emp-paired \\\n",
    "--i-seqs /space/home/rosales/projects/2018_TissueLoss/micro_16S/TL_import_67.qza \\\n",
    "--m-barcodes-file /space/home/rosales/projects/2018_TissueLoss/micro_16S/EM515F_67-mapping.txt \\\n",
    "--o-per-sample-sequences demux_Muller_EMP_TL67.qza \\\n",
    "--m-barcodes-column BarcodeSequence \\\n",
    "--p-no-golay-error-correction \\\n",
    "--o-error-correction-details demux_error_67"
   ]
  },
  {
   "cell_type": "code",
   "execution_count": 13,
   "metadata": {},
   "outputs": [
    {
     "name": "stdout",
     "output_type": "stream",
     "text": [
      "\u001b[32mSaved SampleData[PairedEndSequencesWithQuality] to: demux_Muller_EMP_TL68.qza\u001b[0m\n",
      "\u001b[32mSaved ErrorCorrectionDetails to: demux_error_Muller_EMP_TL68.qza\u001b[0m\n"
     ]
    }
   ],
   "source": [
    "!qiime demux emp-paired \\\n",
    "--i-seqs /space/home/rosales/projects/2018_TissueLoss/micro_16S/TL_import_68.qza \\\n",
    "--m-barcodes-file /space/home/rosales/projects/2018_TissueLoss/micro_16S/EM515F_68-mapping.txt \\\n",
    "--o-per-sample-sequences demux_Muller_EMP_TL68.qza \\\n",
    "--m-barcodes-column BarcodeSequence \\\n",
    "--p-no-golay-error-correction \\\n",
    "--o-error-correction-details demux_error_Muller_EMP_TL68"
   ]
  },
  {
   "cell_type": "code",
   "execution_count": 2,
   "metadata": {},
   "outputs": [
    {
     "name": "stdout",
     "output_type": "stream",
     "text": [
      "\u001b[32mSaved SampleData[PairedEndSequencesWithQuality] to: demux_Muller_EMP_TL138.qza\u001b[0m\n",
      "\u001b[32mSaved ErrorCorrectionDetails to: demux_error_Muller_EMP_TL138.qza\u001b[0m\n"
     ]
    }
   ],
   "source": [
    "!qiime demux emp-paired \\\n",
    "--i-seqs /space/home/rosales/projects/2018_TissueLoss/micro_16S/TL_import_138.qza \\\n",
    "--m-barcodes-file /space/home/rosales/projects/2018_TissueLoss/micro_16S/EM515F_138-mapping.txt \\\n",
    "--o-per-sample-sequences demux_Muller_EMP_TL138.qza \\\n",
    "--m-barcodes-column BarcodeSequence \\\n",
    "--p-no-golay-error-correction \\\n",
    "--o-error-correction-details demux_error_Muller_EMP_TL138"
   ]
  },
  {
   "cell_type": "code",
   "execution_count": 1,
   "metadata": {},
   "outputs": [
    {
     "name": "stdout",
     "output_type": "stream",
     "text": [
      "\u001b[32mSaved SampleData[PairedEndSequencesWithQuality] to: demux_Muller_EMP_TL208.qza\u001b[0m\n",
      "\u001b[32mSaved ErrorCorrectionDetails to: demux_error_Muller_EMP_TL208.qza\u001b[0m\n"
     ]
    }
   ],
   "source": [
    "!qiime demux emp-paired \\\n",
    "--i-seqs /space/home/rosales/projects/2018_TissueLoss/micro_16S/TL_import_208.qza \\\n",
    "--m-barcodes-file /space/home/rosales/projects/2018_TissueLoss/micro_16S/EM515F_208-mapping.txt \\\n",
    "--o-per-sample-sequences demux_Muller_EMP_TL208.qza \\\n",
    "--m-barcodes-column BarcodeSequence \\\n",
    "--p-no-golay-error-correction \\\n",
    "--o-error-correction-details demux_error_Muller_EMP_TL208"
   ]
  },
  {
   "cell_type": "code",
   "execution_count": 5,
   "metadata": {},
   "outputs": [
    {
     "name": "stdout",
     "output_type": "stream",
     "text": [
      "\u001b[32mSaved SampleData[PairedEndSequencesWithQuality] to: demux_Muller_EMP_TL2019_03.qza\u001b[0m\n",
      "\u001b[32mSaved ErrorCorrectionDetails to: demux_error_Muller_EMP_TL2019_03.qza\u001b[0m\n"
     ]
    }
   ],
   "source": [
    "!qiime demux emp-paired \\\n",
    "--i-seqs /space/home/rosales/projects/2018_TissueLoss/micro_16S/TL_import_2019_03.qza \\\n",
    "--m-barcodes-file /space/home/rosales/projects/2018_TissueLoss/micro_16S/EM515F2019_03-mapping.txt \\\n",
    "--o-per-sample-sequences demux_Muller_EMP_TL2019_03.qza \\\n",
    "--m-barcodes-column BarcodeSequence \\\n",
    "--p-no-golay-error-correction \\\n",
    "--o-error-correction-details demux_error_Muller_EMP_TL2019_03"
   ]
  },
  {
   "cell_type": "code",
   "execution_count": 7,
   "metadata": {},
   "outputs": [
    {
     "name": "stdout",
     "output_type": "stream",
     "text": [
      "\u001b[32mSaved SampleData[PairedEndSequencesWithQuality] to: demux_Muller_EMP_TL2019_05.qza\u001b[0m\n",
      "\u001b[32mSaved ErrorCorrectionDetails to: demux_error_Muller_EMP_TL2019_05.qza\u001b[0m\n"
     ]
    }
   ],
   "source": [
    "!qiime demux emp-paired \\\n",
    "--i-seqs /space/home/rosales/projects/2018_TissueLoss/micro_16S/TL_import_2019_05.qza \\\n",
    "--m-barcodes-file /space/home/rosales/projects/2018_TissueLoss/micro_16S/EM515F_040519-mapping.txt \\\n",
    "--o-per-sample-sequences demux_Muller_EMP_TL2019_05.qza \\\n",
    "--m-barcodes-column BarcodeSequence \\\n",
    "--p-no-golay-error-correction \\\n",
    "--o-error-correction-details demux_error_Muller_EMP_TL2019_05"
   ]
  },
  {
   "cell_type": "code",
   "execution_count": 8,
   "metadata": {},
   "outputs": [
    {
     "name": "stdout",
     "output_type": "stream",
     "text": [
      "\u001b[32mSaved SampleData[PairedEndSequencesWithQuality] to: /space/home/rosales/projects/2018_TissueLoss/micro_16S/trim_Muller_EMP_TL67.qza\u001b[0m\n",
      "\u001b[32mSaved SampleData[PairedEndSequencesWithQuality] to: /space/home/rosales/projects/2020_SCTLD_meta-analysis/trim_Muller_EMP_TL68.qza\u001b[0m\n",
      "\u001b[32mSaved SampleData[PairedEndSequencesWithQuality] to: /space/home/rosales/projects/2020_SCTLD_meta-analysis/trim_Muller_EMP_TL138.qza\u001b[0m\n",
      "\u001b[32mSaved SampleData[PairedEndSequencesWithQuality] to: /space/home/rosales/projects/2020_SCTLD_meta-analysis/trim_Muller_EMP_TL208.qza\u001b[0m\n",
      "\u001b[32mSaved SampleData[PairedEndSequencesWithQuality] to: /space/home/rosales/projects/2020_SCTLD_meta-analysis/trim_Muller_EMP_TL2019_03.qza\u001b[0m\n",
      "\u001b[32mSaved SampleData[PairedEndSequencesWithQuality] to: /space/home/rosales/projects/2020_SCTLD_meta-analysis/trim_Muller_EMP_TL2019_05.qza\u001b[0m\n"
     ]
    }
   ],
   "source": [
    "!qiime cutadapt trim-paired \\\n",
    "--i-demultiplexed-sequences demux_TL67.qza \\\n",
    "--p-cores 16 \\\n",
    "--p-front-f GTGCCAGCMGCCGCGGTAA \\\n",
    "--p-front-r GGACTACVSGGGTATCTAAT \\\n",
    "--o-trimmed-sequences /space/home/rosales/projects/2018_TissueLoss/micro_16S/trim_Muller_EMP_TL67.qza \n",
    "\n",
    "!qiime cutadapt trim-paired \\\n",
    "--i-demultiplexed-sequences demux_TL68.qza \\\n",
    "--p-cores 16 \\\n",
    "--p-front-f GTGCCAGCMGCCGCGGTAA \\\n",
    "--p-front-r GGACTACVSGGGTATCTAAT \\\n",
    "--o-trimmed-sequences /space/home/rosales/projects/2020_SCTLD_meta-analysis/trim_Muller_EMP_TL68.qza \n",
    "\n",
    "!qiime cutadapt trim-paired \\\n",
    "--i-demultiplexed-sequences demux_TL138.qza \\\n",
    "--p-cores 16 \\\n",
    "--p-front-f GTGCCAGCMGCCGCGGTAA \\\n",
    "--p-front-r GGACTACVSGGGTATCTAAT \\\n",
    "--o-trimmed-sequences /space/home/rosales/projects/2020_SCTLD_meta-analysis/trim_Muller_EMP_TL138.qza \n",
    "\n",
    "!qiime cutadapt trim-paired \\\n",
    "--i-demultiplexed-sequences demux_TL208.qza \\\n",
    "--p-cores 16 \\\n",
    "--p-front-f GTGCCAGCMGCCGCGGTAA \\\n",
    "--p-front-r GGACTACVSGGGTATCTAAT \\\n",
    "--o-trimmed-sequences /space/home/rosales/projects/2020_SCTLD_meta-analysis/trim_Muller_EMP_TL208.qza \n",
    "\n",
    "!qiime cutadapt trim-paired \\\n",
    "--i-demultiplexed-sequences demux_2019_03.qza \\\n",
    "--p-cores 16 \\\n",
    "--p-front-f GTGCCAGCMGCCGCGGTAA \\\n",
    "--p-front-r GGACTACVSGGGTATCTAAT \\\n",
    "--o-trimmed-sequences /space/home/rosales/projects/2020_SCTLD_meta-analysis/trim_Muller_EMP_TL2019_03.qza\n",
    "\n",
    "!qiime cutadapt trim-paired \\\n",
    "--i-demultiplexed-sequences demux_2019_05.qza \\\n",
    "--p-cores 16 \\\n",
    "--p-front-f GTGCCAGCMGCCGCGGTAA \\\n",
    "--p-front-r GGACTACVSGGGTATCTAAT \\\n",
    "--o-trimmed-sequences /space/home/rosales/projects/2020_SCTLD_meta-analysis/trim_Muller_EMP_TL2019_05.qza"
   ]
  },
  {
   "cell_type": "code",
   "execution_count": 11,
   "metadata": {},
   "outputs": [
    {
     "name": "stdout",
     "output_type": "stream",
     "text": [
      "\u001b[32mSaved Visualization to: trim_Muller_EMP_TL67.qzv\u001b[0m\n",
      "\u001b[32mSaved Visualization to: trim_Muller_EMP_TL68.qzv\u001b[0m\n",
      "\u001b[32mSaved Visualization to: trim_Muller_EMP_TL138.qzv\u001b[0m\n",
      "\u001b[32mSaved Visualization to: trim_Muller_EMP_TL208.qzv\u001b[0m\n",
      "\u001b[32mSaved Visualization to: trim_Muller_EMP_TL2019_03.qzv\u001b[0m\n",
      "\u001b[32mSaved Visualization to: trim_Muller_EMP_TL2019_05.qzv\u001b[0m\n"
     ]
    }
   ],
   "source": [
    "!qiime demux summarize  --i-data trim_Muller_EMP_TL67.qza  --o-visualization trim_Muller_EMP_TL67.qzv\n",
    "!qiime demux summarize  --i-data trim_Muller_EMP_TL67.qza --o-visualization trim_Muller_EMP_TL68.qzv\n",
    "!qiime demux summarize  --i-data trim_Muller_EMP_TL138.qza --o-visualization trim_Muller_EMP_TL138.qzv\n",
    "!qiime demux summarize  --i-data trim_Muller_EMP_TL208.qza --o-visualization trim_Muller_EMP_TL208.qzv\n",
    "!qiime demux summarize  --i-data trim_Muller_EMP_TL2019_03.qza --o-visualization trim_Muller_EMP_TL2019_03.qzv\n",
    "!qiime demux summarize  --i-data trim_Muller_EMP_TL2019_05.qza --o-visualization trim_Muller_EMP_TL2019_05.qzv"
   ]
  },
  {
   "cell_type": "code",
   "execution_count": 1,
   "metadata": {},
   "outputs": [
    {
     "name": "stdout",
     "output_type": "stream",
     "text": [
      "Saved FeatureTable[Frequency] to: Folder_Muller_EMP/table_trim_Muller_EMP_TL138.qza\n",
      "Saved FeatureData[Sequence] to: Folder_Muller_EMP/rep_trim_Muller_EMP_TL138.qza\n",
      "Saved SampleData[DADA2Stats] to: Folder_Muller_EMP/dada_trim_Muller_EMP_TL138.qza\n",
      "Saved FeatureTable[Frequency] to: Folder_Muller_EMP/table_trim_Muller_EMP_TL2019_03.qza\n",
      "Saved FeatureData[Sequence] to: Folder_Muller_EMP/rep_trim_Muller_EMP_TL2019_03.qza\n",
      "Saved SampleData[DADA2Stats] to: Folder_Muller_EMP/dada_trim_Muller_EMP_TL2019_03.qza\n",
      "Saved FeatureTable[Frequency] to: Folder_Muller_EMP/table_trim_Muller_EMP_TL2019_05.qza\n",
      "Saved FeatureData[Sequence] to: Folder_Muller_EMP/rep_trim_Muller_EMP_TL2019_05.qza\n",
      "Saved SampleData[DADA2Stats] to: Folder_Muller_EMP/dada_trim_Muller_EMP_TL2019_05.qza\n",
      "Saved FeatureTable[Frequency] to: Folder_Muller_EMP/table_trim_Muller_EMP_TL208.qza\n",
      "Saved FeatureData[Sequence] to: Folder_Muller_EMP/rep_trim_Muller_EMP_TL208.qza\n",
      "Saved SampleData[DADA2Stats] to: Folder_Muller_EMP/dada_trim_Muller_EMP_TL208.qza\n",
      "Saved FeatureTable[Frequency] to: Folder_Muller_EMP/table_trim_Muller_EMP_TL67.qza\n",
      "Saved FeatureData[Sequence] to: Folder_Muller_EMP/rep_trim_Muller_EMP_TL67.qza\n",
      "Saved SampleData[DADA2Stats] to: Folder_Muller_EMP/dada_trim_Muller_EMP_TL67.qza\n",
      "Saved FeatureTable[Frequency] to: Folder_Muller_EMP/table_trim_Muller_EMP_TL68.qza\n",
      "Saved FeatureData[Sequence] to: Folder_Muller_EMP/rep_trim_Muller_EMP_TL68.qza\n",
      "Saved SampleData[DADA2Stats] to: Folder_Muller_EMP/dada_trim_Muller_EMP_TL68.qza\n"
     ]
    }
   ],
   "source": [
    "#%%bash\n",
    "\n",
    "#for f1 in Folder_Muller_EMP/trim_Muller_EMP_TL*.qza\n",
    "#do\n",
    "#newfile=\"$(basename $f1)\"\n",
    "#fn=${newfile%.qza};\n",
    "\n",
    "#qiime dada2 denoise-paired --i-demultiplexed-seqs $f1 --p-trunc-len-f 200 --p-trunc-len-r  200 --p-n-threads 10 --o-representative-sequences Folder_Muller_EMP/rep_$fn.qza --o-table Folder_Muller_EMP/table_$fn.qza --o-denoising-stats Folder_Muller_EMP/dada_$fn.qza \n",
    "\n",
    "#done"
   ]
  },
  {
   "cell_type": "code",
   "execution_count": 1,
   "metadata": {},
   "outputs": [
    {
     "name": "stdout",
     "output_type": "stream",
     "text": [
      "Saved FeatureTable[Frequency] to: Folder_Muller_EMP/table_trim_Muller_EMP_TL138.qza\n",
      "Saved FeatureData[Sequence] to: Folder_Muller_EMP/rep_trim_Muller_EMP_TL138.qza\n",
      "Saved SampleData[DADA2Stats] to: Folder_Muller_EMP/dada_trim_Muller_EMP_TL138.qza\n",
      "Saved FeatureTable[Frequency] to: Folder_Muller_EMP/table_trim_Muller_EMP_TL2019_03.qza\n",
      "Saved FeatureData[Sequence] to: Folder_Muller_EMP/rep_trim_Muller_EMP_TL2019_03.qza\n",
      "Saved SampleData[DADA2Stats] to: Folder_Muller_EMP/dada_trim_Muller_EMP_TL2019_03.qza\n",
      "Saved FeatureTable[Frequency] to: Folder_Muller_EMP/table_trim_Muller_EMP_TL2019_05.qza\n",
      "Saved FeatureData[Sequence] to: Folder_Muller_EMP/rep_trim_Muller_EMP_TL2019_05.qza\n",
      "Saved SampleData[DADA2Stats] to: Folder_Muller_EMP/dada_trim_Muller_EMP_TL2019_05.qza\n",
      "Saved FeatureTable[Frequency] to: Folder_Muller_EMP/table_trim_Muller_EMP_TL208.qza\n",
      "Saved FeatureData[Sequence] to: Folder_Muller_EMP/rep_trim_Muller_EMP_TL208.qza\n",
      "Saved SampleData[DADA2Stats] to: Folder_Muller_EMP/dada_trim_Muller_EMP_TL208.qza\n",
      "Saved FeatureTable[Frequency] to: Folder_Muller_EMP/table_trim_Muller_EMP_TL67.qza\n",
      "Saved FeatureData[Sequence] to: Folder_Muller_EMP/rep_trim_Muller_EMP_TL67.qza\n",
      "Saved SampleData[DADA2Stats] to: Folder_Muller_EMP/dada_trim_Muller_EMP_TL67.qza\n",
      "Saved FeatureTable[Frequency] to: Folder_Muller_EMP/table_trim_Muller_EMP_TL68.qza\n",
      "Saved FeatureData[Sequence] to: Folder_Muller_EMP/rep_trim_Muller_EMP_TL68.qza\n",
      "Saved SampleData[DADA2Stats] to: Folder_Muller_EMP/dada_trim_Muller_EMP_TL68.qza\n"
     ]
    }
   ],
   "source": [
    "%%bash\n",
    "\n",
    "for f1 in Folder_Muller_EMP/trim_Muller_EMP_TL*.qza\n",
    "do\n",
    "newfile=\"$(basename $f1)\"\n",
    "fn=${newfile%.qza};\n",
    "\n",
    "qiime dada2 denoise-single --i-demultiplexed-seqs $f1 --p-max-ee 3 --p-trunc-len 130 --p-n-threads 10 --o-representative-sequences Folder_Muller_EMP/rep_$fn.qza --o-table Folder_Muller_EMP/table_$fn.qza --o-denoising-stats Folder_Muller_EMP/dada_$fn.qza \n",
    "\n",
    "done"
   ]
  },
  {
   "cell_type": "code",
   "execution_count": 2,
   "metadata": {},
   "outputs": [
    {
     "name": "stdout",
     "output_type": "stream",
     "text": [
      "\u001b[32mSaved FeatureData[Sequence] to: Folder_Muller_EMP/rep_trim_Muller_EMP.qza\u001b[0m\r\n"
     ]
    }
   ],
   "source": [
    "!qiime feature-table merge-seqs \\\n",
    "--i-data Folder_Muller_EMP/rep_trim_Muller_EMP_TL138.qza \\\n",
    "--i-data Folder_Muller_EMP/rep_trim_Muller_EMP_TL2019_03.qza \\\n",
    "--i-data Folder_Muller_EMP/rep_trim_Muller_EMP_TL2019_05.qza \\\n",
    "--i-data Folder_Muller_EMP/rep_trim_Muller_EMP_TL208.qza \\\n",
    "--i-data Folder_Muller_EMP/rep_trim_Muller_EMP_TL67.qza \\\n",
    "--i-data Folder_Muller_EMP/rep_trim_Muller_EMP_TL68.qza \\\n",
    "--o-merged-data Folder_Muller_EMP/rep_trim_Muller_EMP.qza"
   ]
  },
  {
   "cell_type": "code",
   "execution_count": 3,
   "metadata": {},
   "outputs": [
    {
     "name": "stdout",
     "output_type": "stream",
     "text": [
      "\u001b[32mSaved FeatureTable[Frequency] to: Folder_Muller_EMP/table_Muller_EMP_TL.qza\u001b[0m\r\n"
     ]
    }
   ],
   "source": [
    "!qiime feature-table merge \\\n",
    " --i-tables Folder_Muller_EMP/table_trim_Muller_EMP_TL138.qza \\\n",
    " --i-tables Folder_Muller_EMP/table_trim_Muller_EMP_TL2019_03.qza \\\n",
    " --i-tables Folder_Muller_EMP/table_trim_Muller_EMP_TL2019_05.qza \\\n",
    " --i-tables Folder_Muller_EMP/table_trim_Muller_EMP_TL208.qza \\\n",
    " --i-tables Folder_Muller_EMP/table_trim_Muller_EMP_TL67.qza \\\n",
    " --i-tables Folder_Muller_EMP/table_trim_Muller_EMP_TL68.qza \\\n",
    " --o-merged-table Folder_Muller_EMP/table_Muller_EMP_TL.qza"
   ]
  },
  {
   "cell_type": "code",
   "execution_count": 4,
   "metadata": {},
   "outputs": [
    {
     "name": "stdout",
     "output_type": "stream",
     "text": [
      "\u001b[32mSaved Visualization to: Folder_Muller_EMP/table_Muller_EMP_TL.qzv\u001b[0m\r\n"
     ]
    }
   ],
   "source": [
    "!qiime metadata tabulate \\\n",
    "  --m-input-file Folder_Muller_EMP/table_Muller_EMP_TL.qza \\\n",
    "  --o-visualization Folder_Muller_EMP/table_Muller_EMP_TL.qzv"
   ]
  },
  {
   "cell_type": "code",
   "execution_count": 5,
   "metadata": {},
   "outputs": [
    {
     "name": "stdout",
     "output_type": "stream",
     "text": [
      "\u001b[32mSaved FeatureData[Taxonomy] to: Folder_Muller_EMP/taxonomy_Muller_EMP.qza\u001b[0m\r\n"
     ]
    }
   ],
   "source": [
    "!qiime feature-classifier classify-sklearn \\\n",
    "  --i-classifier /space/home/rosales/databases/SILVA_DBs/silva-138-99-nb-classifier.qza \\\n",
    "  --i-reads Folder_Muller_EMP/rep_trim_Muller_EMP.qza \\\n",
    "  --p-n-jobs -7 \\\n",
    "  --o-classification Folder_Muller_EMP/taxonomy_Muller_EMP.qza"
   ]
  },
  {
   "cell_type": "code",
   "execution_count": 6,
   "metadata": {},
   "outputs": [
    {
     "name": "stdout",
     "output_type": "stream",
     "text": [
      "\u001b[32mSaved FeatureTable[Frequency] to: Folder_Muller_EMP/table-BacArc_Muller_EMP.qza\u001b[0m\n",
      "\u001b[32mSaved FeatureData[Sequence] to: Folder_Muller_EMP/rep_seqs_BacArc_Muller_EMP.qza\u001b[0m\n"
     ]
    }
   ],
   "source": [
    "!qiime taxa filter-table \\\n",
    "  --i-table Folder_Muller_EMP/table_Muller_EMP_TL.qza \\\n",
    "  --i-taxonomy Folder_Muller_EMP/taxonomy_Muller_EMP.qza \\\n",
    " --p-include d__Bacteria,d__Archaea \\\n",
    "  --p-exclude mitochondria,chloroplast \\\n",
    "--o-filtered-table Folder_Muller_EMP/table-BacArc_Muller_EMP.qza\n",
    "\n",
    "!qiime taxa filter-seqs \\\n",
    "  --i-sequences Folder_Muller_EMP/rep_trim_Muller_EMP.qza \\\n",
    "  --i-taxonomy  Folder_Muller_EMP/taxonomy_Muller_EMP.qza \\\n",
    "  --p-include d__Bacteria,d__Archaea \\\n",
    "  --p-exclude mitochondria,chloroplast \\\n",
    "  --o-filtered-sequences Folder_Muller_EMP/rep_seqs_BacArc_Muller_EMP.qza"
   ]
  },
  {
   "cell_type": "code",
   "execution_count": 7,
   "metadata": {},
   "outputs": [
    {
     "name": "stdout",
     "output_type": "stream",
     "text": [
      "\u001b[32mSaved Visualization to: Folder_Muller_EMP/taxonomy_Muller_EMP.qzv\u001b[0m\n",
      "\u001b[32mSaved Visualization to: Folder_Muller_EMP/taxa-bar-Muller_EMP.qzv\u001b[0m\n"
     ]
    }
   ],
   "source": [
    "!qiime metadata tabulate \\\n",
    "  --m-input-file Folder_Muller_EMP/taxonomy_Muller_EMP.qza \\\n",
    "  --o-visualization Folder_Muller_EMP/taxonomy_Muller_EMP.qzv\n",
    "\n",
    "\n",
    "!qiime taxa barplot \\\n",
    "  --i-table Folder_Muller_EMP/table-BacArc_Muller_EMP.qza \\\n",
    "  --i-taxonomy Folder_Muller_EMP/taxonomy_Muller_EMP.qza \\\n",
    "  --m-metadata-file  metadata/metadata_Muller_EMP.txt \\\n",
    "  --o-visualization Folder_Muller_EMP/taxa-bar-Muller_EMP.qzv"
   ]
  }
 ],
 "metadata": {
  "kernelspec": {
   "display_name": "Python 3",
   "language": "python",
   "name": "python3"
  },
  "language_info": {
   "codemirror_mode": {
    "name": "ipython",
    "version": 3
   },
   "file_extension": ".py",
   "mimetype": "text/x-python",
   "name": "python",
   "nbconvert_exporter": "python",
   "pygments_lexer": "ipython3",
   "version": "3.6.12"
  }
 },
 "nbformat": 4,
 "nbformat_minor": 4
}
