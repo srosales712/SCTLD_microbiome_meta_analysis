{
 "cells": [
  {
   "cell_type": "code",
   "execution_count": null,
   "metadata": {
    "button": false,
    "collapsed": true,
    "deletable": true,
    "new_sheet": false,
    "run_control": {
     "read_only": false
    }
   },
   "outputs": [],
   "source": [
    "#Merge sequences \n",
    "\n",
    "!qiime feature-table merge-seqs \\\n",
    "--i-data Folder_Apprill_USVIFeb2020/rep_trim_Import_files_Apprill_USVIFeb2020.qza \\\n",
    "--i-data Folder_Apprill_transmissionMucus2019/rep_trim_Import_files_Apprill_2019TransmissionExpMucus.qza \\\n",
    "--i-data folder_Apprill_transmissionTissue2019/rep_trim_Apprill_2019TransmissionExpTissu.qza \\\n",
    "--i-data Folder_Meyer_FRT2017/rep_seqs_Meyer_FRT2017.qza \\\n",
    "--i-data Folder_Muller_EMP/rep_trim_Muller_EMP.qza \\\n",
    "--i-data Folder_SWGmicrobiome2018/rep_trim_demux_Muller_SWGmicro2018.qza \\\n",
    "--i-data Folder_Muller_SWGtransmissionstudies/rep_trim_demux_Muller_SWGtransmissionstudies.qza \\\n",
    "--i-data Folder_SalernoPeters_FDEPSCTLD_2016_2017/rep_seqs_SalernoPeters_FDEPSCTLD_2016_2017.qza \\\n",
    "--i-data Folder_RodriguezLanetty_Bellantuono_SSID_ConchReef_Mar2017/rep_seqs_RodriguezLanetty_Bellantuono_SSID_ConchReef_Mar2017.qza \\\n",
    "--i-data Folder_Schill_LK_2018/rep__Schill_LK_2018.qza \\\n",
    "--i-data Folder_StewartMedina_FL2019/rep_StewartMedina_FL2019.qza \\\n",
    "--i-data Folder_Rosales_AcropraDis/rep_seqs_Rosales_AcropraDis.qza \\\n",
    "--i-data Folder_Voss_ENS_LBTS1/rep_seqs_Voss_ENS_LBTS1.qza \\\n",
    "--o-merged-data rep_merge_SCTLD.qza"
   ]
  },
  {
   "cell_type": "code",
   "execution_count": null,
   "metadata": {
    "button": false,
    "collapsed": true,
    "deletable": true,
    "new_sheet": false,
    "run_control": {
     "read_only": false
    }
   },
   "outputs": [],
   "source": [
    "#Merge feature table\n",
    "!qiime feature-table merge \\\n",
    "--i-tables Folder_Apprill_USVIFeb2020/table_Apprill_USVIFeb2020I.qza \\\n",
    "--i-tables Folder_Apprill_transmissionMucus2019/table_Apprill_2019TransmissionExpMucus.qza \\\n",
    "--i-tables folder_Apprill_transmissionTissue2019/table_Apprill_2019TransmissionExpTissu.qza \\\n",
    "--i-tables Folder_Meyer_FRT2017/table_Meyer_FRT201.qza \\\n",
    "--i-tables Folder_Muller_EMP/table_Muller_EMP_TL.qza \\\n",
    "--i-tables Folder_SWGmicrobiome2018/table_Muller_SWGmicro2018.qza \\\n",
    "--i-tables Folder_Muller_SWGtransmissionstudies/table_Muller_SWGtransmissionstudies.qza \\\n",
    "--i-tables Folder_SalernoPeters_FDEPSCTLD_2016_2017/table_SalernoPeters_FDEPSCTLD_2016_2017.qza \\\n",
    "--i-tables Folder_RodriguezLanetty_Bellantuono_SSID_ConchReef_Mar2017/table_RodriguezLanetty_Bellantuono_SSID_ConchReef_Mar2017.qza \\\n",
    "--i-tables Folder_Schill_LK_2018/table_Schill_LK_2018.qza \\\n",
    "--i-tables Folder_StewartMedina_FL2019/table_StewartMedina_FL2019.qza \\\n",
    "--i-tables Folder_Rosales_AcropraDis/table_Rosales_AcropraDis.qza \\\n",
    "--i-tables Folder_Voss_ENS_LBTS1/table-Voss_ENS_LBTS1.qza \\\n",
    "--o-merged-table table_merge_SCTLD.qza\n"
   ]
  },
  {
   "cell_type": "code",
   "execution_count": null,
   "metadata": {
    "button": false,
    "collapsed": true,
    "deletable": true,
    "new_sheet": false,
    "run_control": {
     "read_only": false
    }
   },
   "outputs": [],
   "source": [
    "# Cluster at 99% identity \n",
    "!qiime vsearch cluster-features-de-novo \\\n",
    "--i-sequences rep_merge_SCTLD.qza \\\n",
    "--i-table table_merge_SCTLD.qza --p-perc-identity 0.99 \\\n",
    "--o-clustered-table table-dn-99.qza \\\n",
    "--o-clustered-sequences rep-seqs-dn-99.qza"
   ]
  },
  {
   "cell_type": "code",
   "execution_count": null,
   "metadata": {
    "button": false,
    "collapsed": true,
    "deletable": true,
    "new_sheet": false,
    "run_control": {
     "read_only": false
    }
   },
   "outputs": [],
   "source": [
    "# visualize feature table\n",
    "!qiime feature-table summarize \\\n",
    "  --i-table table-dn-99.qza  \\\n",
    "  --o-visualization table-dn-99.qzv \\\n",
    "  --m-sample-metadata-file metadata/SCTLD_meta_analysis_metadata.txt"
   ]
  },
  {
   "cell_type": "code",
   "execution_count": null,
   "metadata": {
    "button": false,
    "collapsed": true,
    "deletable": true,
    "new_sheet": false,
    "run_control": {
     "read_only": false
    }
   },
   "outputs": [],
   "source": [
    "#vsearch to classify sequences with long 16S rRNA seq\n",
    "!qiime feature-classifier classify-consensus-vsearch \\\n",
    "  --i-reference-taxonomy /space/home/rosales/databases/SILVA_DBs/silva-138-99-tax.qza \\\n",
    "  --i-reference-reads /space/home/rosales/databases/SILVA_DBs/silva-138-99-seqs.qza \\\n",
    "  --i-query rep-seqs-dn-99.qza \\\n",
    "  --p-maxaccepts 3 \\\n",
    "  --p-threads 30 \\\n",
    "  --o-classification taxaVsearch_rep-seqs-dn-99_SCTLD.qza\n",
    "\n",
    "# visualize\n",
    "!qiime metadata tabulate \\\n",
    "  --m-input-file taxaVsearch_rep_merge_SCTLD.qza \\\n",
    "  --o-visualization taxaVsearch_rep_merge_SCTLD.qzv\n",
    "\n",
    "#filter mitochondria and chloroplast\n",
    "!qiime taxa filter-table \\\n",
    "--i-table table-dn-99.qza \\\n",
    "--i-taxonomy taxaVsearch_rep-seqs-dn-99_SCTLD.qza \\\n",
    "--p-exclude mitochondria,chloroplast \\\n",
    "--p-include d__Bacteria,d__Archaea \\\n",
    "--o-filtered-table tableV_BacArc_99_SCTLD.qza\n",
    "\n",
    "# visualize\n",
    "!qiime feature-table summarize \\\n",
    "  --i-table tableV_BacArc_99_SCTLD.qza \\\n",
    "  --o-visualization tableV_BacArc_99_SCTLD.qzv \\\n",
    "  --m-sample-metadata-file metadata/SCTLD_meta_analysis_metadata.txt\n",
    "\n",
    "#filter mitochondria and chloroplast\n",
    "!qiime taxa filter-seqs \\\n",
    "--i-sequences rep-seqs-dn-99.qza \\\n",
    "--i-taxonomy  taxaVsearch_rep-seqs-dn-99_SCTLD.qza \\\n",
    "--p-exclude mitochondria,chloroplast \\\n",
    "--p-include d__Bacteria,d__Archaea \\\n",
    "--o-filtered-sequences repV_BacArc_99_SCTLD.qza"
   ]
  },
  {
   "cell_type": "code",
   "execution_count": null,
   "metadata": {
    "button": false,
    "collapsed": true,
    "deletable": true,
    "new_sheet": false,
    "run_control": {
     "read_only": false
    }
   },
   "outputs": [],
   "source": [
    "#tree\n",
    "!qiime fragment-insertion sepp \\\n",
    "  --i-representative-sequences repV_BacArc_99_SCTLD.qza \\\n",
    "  --i-reference-database /space/home/rosales/databases/SILVA_DBs/sepp-refs-silva-128.qza \\\n",
    "  --o-tree insertion-tree99.qza \\\n",
    "  --p-threads 20 \\\n",
    "  --o-placements insertion-placements99.qza"
   ]
  },
  {
   "cell_type": "code",
   "execution_count": null,
   "metadata": {
    "button": false,
    "collapsed": true,
    "deletable": true,
    "new_sheet": false,
    "run_control": {
     "read_only": false
    }
   },
   "outputs": [],
   "source": [
    "!qiime fragment-insertion filter-features \\\n",
    "  --i-table tableV_BacArc_99_SCTLD.qza \\\n",
    "  --i-tree insertion-tree99.qza \\\n",
    "  --o-filtered-table tableVfil_BacArc_99_SCTLD.qza \\\n",
    "  --o-removed-table  tableVrem_BacArc_99_SCTLD.qza"
   ]
  },
  {
   "cell_type": "code",
   "execution_count": null,
   "metadata": {
    "button": false,
    "collapsed": true,
    "deletable": true,
    "new_sheet": false,
    "run_control": {
     "read_only": false
    }
   },
   "outputs": [],
   "source": [
    "!qiime feature-table summarize \\\n",
    "  --i-table tableVfil_BacArc_99_SCTLD.qza \\\n",
    "  --o-visualization tableVfil_BacArc_99_SCTLD.qzv \\\n",
    "  --m-sample-metadata-file metadata/SCTLD_meta_analysis_metadata.txt\n",
    "\n",
    "\n",
    "!qiime feature-table summarize \\\n",
    "  --i-table tableVrem_BacArc_99_SCTLD.qza \\\n",
    "  --o-visualization tableVrem_BacArc_99_SCTLD.qzv \\\n",
    "  --m-sample-metadata-file metadata/SCTLD_meta_analysis_metadata.txt"
   ]
  },
  {
   "cell_type": "code",
   "execution_count": null,
   "metadata": {
    "button": false,
    "collapsed": true,
    "deletable": true,
    "new_sheet": false,
    "run_control": {
     "read_only": false
    }
   },
   "outputs": [],
   "source": [
    "!qiime tools export \\\n",
    "  --input-path insertion-tree99.qza \\\n",
    "  --output-path exported-tree"
   ]
  }
 ],
 "metadata": {
  "kernelspec": {
   "display_name": "Python 3",
   "language": "python",
   "name": "python3"
  },
  "language_info": {
   "codemirror_mode": {
    "name": "ipython",
    "version": 3
   },
   "file_extension": ".py",
   "mimetype": "text/x-python",
   "name": "python",
   "nbconvert_exporter": "python",
   "pygments_lexer": "ipython3",
   "version": "3.9.1"
  }
 },
 "nbformat": 4,
 "nbformat_minor": 4
}
