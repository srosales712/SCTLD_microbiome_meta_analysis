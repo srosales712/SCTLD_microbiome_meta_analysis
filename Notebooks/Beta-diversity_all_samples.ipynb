{
 "cells": [
  {
   "cell_type": "code",
   "execution_count": null,
   "metadata": {},
   "outputs": [],
   "source": [
    "R.version"
   ]
  },
  {
   "cell_type": "code",
   "execution_count": null,
   "metadata": {},
   "outputs": [],
   "source": [
    "library(qiime2R)\n",
    "library(tidyr)\n",
    "library(tibble)\n",
    "library(ggplot2)\n",
    "library(vegan)\n",
    "library(microbiome)\n",
    "library(phyloseq)\n",
    "library(dplyr)\n",
    "library(PCAtools)\n",
    "library(\"pairwiseAdonis\")"
   ]
  },
  {
   "cell_type": "code",
   "execution_count": null,
   "metadata": {
    "button": false,
    "jupyter": {
     "outputs_hidden": false
    },
    "new_sheet": false,
    "run_control": {
     "read_only": false
    }
   },
   "outputs": [],
   "source": [
    "# Read in the 16S qza files and clean them up for phyloseq\n",
    "ASVtable_16S <- read_qza(\"/Users/stephanie.rosales/Documents/Tissueloss/SCTLD_MetaAnalysis/QiimeOutPut/2022_Process/tableV_BacArc_99_SCTLD.qza\")\n",
    "ASVtable_16S <- ASVtable_16S$data # Extract the count data from list\n",
    "ASVtaxa_16S <- read_qza(\"/Users/stephanie.rosales/Documents/Tissueloss/SCTLD_MetaAnalysis/QiimeOutPut/2022_Process/taxaVsearch_rep-seqs-dn-99_SCTLD.qza\")\n",
    "taxtable_16S <- ASVtaxa_16S$data %>% as_tibble() %>% separate(Taxon, sep=\";\",\n",
    "c(\"Kingdom\", \"Phylum\", \"Class\", \"Order\", \"Family\", \"Genus\", \"Species\")) \n",
    "# Convert taxonomy info to data frame with correct taxonomy labels\n",
    "taxtable_16S <- taxtable_16S[-1,]\n",
    "#asv_tab$asv_id <- rownames(asv_tab) # add a new column for ids\n",
    "\n",
    "\n"
   ]
  },
  {
   "cell_type": "code",
   "execution_count": null,
   "metadata": {
    "button": false,
    "new_sheet": false,
    "run_control": {
     "read_only": false
    },
    "tags": []
   },
   "outputs": [],
   "source": [
    "sample_info_tab_16S <- read.csv(\"/Users/stephanie.rosales/Documents/Tissueloss/SCTLD_MetaAnalysis/metadata_for_qiime/SCTLD_meta_analysis_metadata.csv\", header = T, row.names = 1,\n",
    "na.strings = c(\"\", \"NA\"))"
   ]
  },
  {
   "cell_type": "code",
   "execution_count": null,
   "metadata": {
    "button": false,
    "jupyter": {
     "outputs_hidden": false
    },
    "new_sheet": false,
    "run_control": {
     "read_only": false
    }
   },
   "outputs": [],
   "source": [
    "physeq_16S <- phyloseq(otu_table(ASVtable_16S, taxa_are_rows= T),\n",
    "tax_table(as.data.frame(taxtable_16S) %>% column_to_rownames(\"Feature.ID\") %>%\n",
    "as.matrix()), sample_data(sample_info_tab_16S))\n",
    "physeq_16S\n",
    "#taxa_names(physeq_16S) <- paste0(\"ASV\", seq(ntaxa(physeq_16S)))"
   ]
  },
  {
   "cell_type": "code",
   "execution_count": null,
   "metadata": {
    "button": false,
    "jupyter": {
     "outputs_hidden": false
    },
    "new_sheet": false,
    "run_control": {
     "read_only": false
    }
   },
   "outputs": [],
   "source": [
    "sub_samples = c(\"TissueSlurry\", \"Mucus\", \"TissueSlurry_Skeleton\", \"Seawater\", \"Sediment\")\n",
    "\n",
    "sub_samples2 = c(\"TissueSlurry\", \"Mucus\", \"TissueSlurry_Skeleton\")\n",
    "\n",
    "ps.coral =subset_samples(physeq_16S, sample_type %in% sub_samples & Alias!=\"AcroporaDisease\"\n",
    "                       )\n",
    "\n",
    "ps.coral\n",
    "    "
   ]
  },
  {
   "cell_type": "code",
   "execution_count": null,
   "metadata": {
    "button": false,
    "jupyter": {
     "outputs_hidden": false
    },
    "new_sheet": false,
    "run_control": {
     "read_only": false
    }
   },
   "outputs": [],
   "source": [
    "ps.coral = filter_taxa(ps.coral, function(x) sum(x > 5) > (0.20*length(x)), TRUE)\n",
    "ps.coral\n",
    "  "
   ]
  },
  {
   "cell_type": "code",
   "execution_count": null,
   "metadata": {
    "button": false,
    "new_sheet": false,
    "run_control": {
     "read_only": false
    },
    "tags": []
   },
   "outputs": [],
   "source": [
    "ps.coral_clr <- microbiome::transform(ps.coral, 'clr')\n"
   ]
  },
  {
   "cell_type": "markdown",
   "metadata": {},
   "source": [
    "### Biome"
   ]
  },
  {
   "cell_type": "code",
   "execution_count": null,
   "metadata": {},
   "outputs": [],
   "source": [
    "#dis_clr <- vegdist(otu_table(t(ps.coral)), method =\"euclidean\")\n",
    "# PERMDISP2 procedure for the analysis of multivariate homogeneity of group dispersions (variances).\n",
    "mod_clr <- betadisper(dis_clr, sample_data(ps.coral)$Biome)\n",
    "\n",
    "boxplot(mod_clr)\n",
    "permutest(mod_clr, permutations = how(nperm=999))\n",
    "\n",
    "adonis2(dis_clr~Biome, \n",
    "       data =ps_clr_meta, permutations = 999, \n",
    "         method = \"euclidean\", block=Study)\n",
    "\n",
    "\n"
   ]
  },
  {
   "cell_type": "markdown",
   "metadata": {},
   "source": [
    "### Primers"
   ]
  },
  {
   "cell_type": "code",
   "execution_count": null,
   "metadata": {},
   "outputs": [],
   "source": [
    "# PERMDISP2 procedure for the analysis of multivariate homogeneity of group dispersions (variances).\n",
    "mod_clr <- betadisper(dis_clr, sample_data(ps.coral)$primer_names)\n",
    "permutest(mod_clr, permutations = how(nperm=999))\n",
    "boxplot(mod_clr)\n",
    "\n",
    "adonis2(dis_clr~primer_names, \n",
    "       data =ps_clr_meta, permutations = 999, \n",
    "         method = \"euclidean\", block=Study)"
   ]
  },
  {
   "cell_type": "markdown",
   "metadata": {},
   "source": [
    "### Species"
   ]
  },
  {
   "cell_type": "code",
   "execution_count": null,
   "metadata": {},
   "outputs": [],
   "source": [
    "mod_clr <- betadisper(dis_clr, sample_data(ps.coral)$species_code)\n",
    "\n",
    "boxplot(mod_clr)\n",
    "\n",
    "permutest(mod_clr, permutations = how(nperm=999))\n",
    "\n",
    "\n",
    "adonis2(dis_clr~species_code, \n",
    "       data =ps_clr_meta, permutations = 999, \n",
    "         method = \"euclidean\", block=Study)\n",
    "\n"
   ]
  },
  {
   "cell_type": "markdown",
   "metadata": {},
   "source": [
    "### Sample type"
   ]
  },
  {
   "cell_type": "code",
   "execution_count": null,
   "metadata": {},
   "outputs": [],
   "source": [
    "mod_clr <- betadisper(dis_clr, sample_data(ps.coral)$sample_type)\n",
    "\n",
    "boxplot(mod_clr)\n",
    "permutest(mod_clr, permutations = how(nperm=999))\n",
    "\n",
    "\n",
    "\n",
    "\n",
    "adonis2(dis_clr~sample_type, \n",
    "       data =ps_clr_meta, permutations = 999, \n",
    "         method = \"euclidean\", block=Study)\n",
    "\n"
   ]
  },
  {
   "cell_type": "markdown",
   "metadata": {},
   "source": [
    "### Study"
   ]
  },
  {
   "cell_type": "code",
   "execution_count": null,
   "metadata": {},
   "outputs": [],
   "source": [
    "mod_clr <- betadisper(dis_clr, sample_data(ps.coral)$Alias)\n",
    "boxplot(mod_clr)\n",
    "permutest(mod_clr, permutations = how(nperm=999))\n",
    "\n",
    "\n",
    "adonis2(dis_clr~Alias, \n",
    "       data =ps_clr_meta, permutations = 999, \n",
    "         method = \"euclidean\")\n"
   ]
  },
  {
   "cell_type": "markdown",
   "metadata": {},
   "source": [
    "### Year"
   ]
  },
  {
   "cell_type": "code",
   "execution_count": null,
   "metadata": {},
   "outputs": [],
   "source": [
    "mod_clr <- betadisper(dis_clr, sample_data(ps.coral)$collection_year)\n",
    "\n",
    "boxplot(mod_clr)\n",
    "\n",
    "\n",
    "permutest(mod_clr, permutations = how(nperm=999))\n",
    "\n",
    "\n",
    "adonis2(dis_clr~collection_year, \n",
    "       data =ps_clr_meta, permutations = 999, \n",
    "         method = \"euclidean\", block=Study)\n",
    "\n",
    "\n"
   ]
  }
 ],
 "metadata": {
  "kernelspec": {
   "display_name": "R",
   "language": "R",
   "name": "ir"
  },
  "language_info": {
   "codemirror_mode": "r",
   "file_extension": ".r",
   "mimetype": "text/x-r-source",
   "name": "R",
   "pygments_lexer": "r",
   "version": "4.0.5"
  }
 },
 "nbformat": 4,
 "nbformat_minor": 4
}
