{
 "cells": [
  {
   "cell_type": "code",
   "execution_count": 39,
   "id": "ffde4f70",
   "metadata": {},
   "outputs": [],
   "source": [
    "library(tidyverse)\n",
    "library(gtsummary)\n",
    "library(pivottabler)\n",
    "library(openxlsx)\n",
    "library(phyloseq)\n",
    "library(qiime2R)"
   ]
  },
  {
   "cell_type": "code",
   "execution_count": 40,
   "id": "c7819a2d",
   "metadata": {},
   "outputs": [
    {
     "name": "stderr",
     "output_type": "stream",
     "text": [
      "Warning message:\n",
      "“Expected 7 pieces. Missing pieces filled with `NA` in 70468 rows [2, 7, 11, 13, 15, 17, 21, 23, 27, 29, 34, 38, 39, 41, 43, 46, 47, 50, 54, 56, ...].”\n"
     ]
    }
   ],
   "source": [
    "# Read in the 16S qza files and clean them up for phyloseq\n",
    "ASVtable_16S <- read_qza(\"/Users/stephanie.rosales/Documents/Tissueloss/SCTLD_MetaAnalysis/QiimeOutPut/2022_Process/tableV_BacArc_99_SCTLD.qza\")\n",
    "ASVtable_16S <- ASVtable_16S$data # Extract the count data from list\n",
    "ASVtaxa_16S <- read_qza(\"/Users/stephanie.rosales/Documents/Tissueloss/SCTLD_MetaAnalysis/QiimeOutPut/2022_Process/taxaVsearch_rep-seqs-dn-99_SCTLD.qza\")\n",
    "taxtable_16S <- ASVtaxa_16S$data %>% as_tibble() %>% separate(Taxon, sep=\";\",\n",
    "c(\"Kingdom\", \"Phylum\", \"Class\", \"Order\", \"Family\", \"Genus\", \"Species\")) \n",
    "# Convert taxonomy info to data frame with correct taxonomy labels\n",
    "taxtable_16S <- taxtable_16S[-1,]\n",
    "#asv_tab$asv_id <- rownames(asv_tab) # add a new column for ids\n"
   ]
  },
  {
   "cell_type": "code",
   "execution_count": 27,
   "id": "85692b35",
   "metadata": {},
   "outputs": [],
   "source": [
    "sample_info_tab_16S <- read.csv(\"/Users/stephanie.rosales/Documents/Tissueloss/SCTLD_MetaAnalysis/metadata_for_qiime/SCTLD_meta_analysis_metadata.csv\", header = T, row.names = 1,\n",
    "na.strings = c(\"\", \"NA\"))  "
   ]
  },
  {
   "cell_type": "code",
   "execution_count": 43,
   "id": "8ce79917",
   "metadata": {},
   "outputs": [
    {
     "data": {
      "text/plain": [
       "phyloseq-class experiment-level object\n",
       "otu_table()   OTU Table:         [ 119456 taxa and 2425 samples ]\n",
       "sample_data() Sample Data:       [ 2425 samples by 61 sample variables ]\n",
       "tax_table()   Taxonomy Table:    [ 119456 taxa by 8 taxonomic ranks ]"
      ]
     },
     "metadata": {},
     "output_type": "display_data"
    }
   ],
   "source": [
    "physeq_16S <- phyloseq(otu_table(ASVtable_16S, taxa_are_rows= T),\n",
    "tax_table(as.data.frame(taxtable_16S) %>% column_to_rownames(\"Feature.ID\") %>%\n",
    "as.matrix()), sample_data(sample_info_tab_16S))\n",
    "physeq_16S\n",
    "#taxa_names(physeq_16S) <- paste0(\"ASV\", seq(ntaxa(physeq_16S)))"
   ]
  },
  {
   "cell_type": "code",
   "execution_count": 50,
   "id": "5fa64cb2",
   "metadata": {},
   "outputs": [
    {
     "data": {
      "text/plain": [
       "phyloseq-class experiment-level object\n",
       "otu_table()   OTU Table:         [ 119456 taxa and 2362 samples ]\n",
       "sample_data() Sample Data:       [ 2362 samples by 61 sample variables ]\n",
       "tax_table()   Taxonomy Table:    [ 119456 taxa by 8 taxonomic ranks ]"
      ]
     },
     "metadata": {},
     "output_type": "display_data"
    }
   ],
   "source": [
    "sub_samples = c(\"TissueSlurry\", \"Mucus\", \"TissueSlurry_Skeleton\", \"Seawater\", \"Sediment\")\n",
    "ps.coral =subset_samples(physeq_16S, sample_type %in% sub_samples)\n",
    "ps.coral"
   ]
  },
  {
   "cell_type": "code",
   "execution_count": 48,
   "id": "c97f788e",
   "metadata": {},
   "outputs": [],
   "source": [
    "df = sample_data(ps.coral) %>% as_tibble()"
   ]
  },
  {
   "cell_type": "code",
   "execution_count": 31,
   "id": "57035d99",
   "metadata": {},
   "outputs": [],
   "source": [
    "df = sample_info_tab_16S %>% \n",
    "filter(sample_type %in% sub_samples)"
   ]
  },
  {
   "cell_type": "code",
   "execution_count": 57,
   "id": "08b3a71b",
   "metadata": {},
   "outputs": [
    {
     "data": {
      "text/plain": [
       "                            ACCE  ACPA  CNAT  DLAB  DSTO  MCAV  MMEA  OANN  OFAV  OFRA  PAST  PCLI  PSTR  SINT  SSID  NA   Total  \n",
       "CoralReef  2016   DL                       2     1                                                                             3  \n",
       "                  DU                       3     1                                                                             4  \n",
       "                  Total                    5     2                                                                             7  \n",
       "           2017   AH          23    17     3     7     4    16                 4           2                       8          84  \n",
       "                  DL          18    12           8     8    19                 2                                   4          71  \n",
       "                  DU          19     5                                                                             4          28  \n",
       "                  Total       60    34     3    15    12    35                 6           2                      16         183  \n",
       "           2018   AH                      26    16    17    24     3     2    24                      25    15    24         176  \n",
       "                  DL                      27     7     7    25     5     2    23                      26     5    25         152  \n",
       "                  DU                      25     5     5    25     5          23                      24     5    25         142  \n",
       "                  Seawater                                                                                            117    117  \n",
       "                  Sediment                                                                                             90     90  \n",
       "                  Total                   78    28    29    74    13     4    70                      75    25    74  207    677  \n",
       "           2019   AH                       5     6     5    77     5     5     5                 5     5                     118  \n",
       "                  DL                       5     7     5           6     5     2     1           1     6                      38  \n",
       "                  DU                                       127                                                               127  \n",
       "                  Seawater                                                                                             15     15  \n",
       "                  Total                   10    13    10   204    11    10     7     1           6    11               15    298  \n",
       "           2020   AH                                         4     3                                                           7  \n",
       "                  DL                       8                 6     4                 3                                        21  \n",
       "                  DU                       8                 8     2                 3                                        21  \n",
       "                  Seawater                                                                                             60     60  \n",
       "                  Total                   16                18     9                 6                                 60    109  \n",
       "           Total              60    34   112    58    51   331    33    14    83     7     2     6    86    25    90  282   1274  \n",
       "Mesocosm   2019   AH                      30    32          85          37    77          35          30          34         360  \n",
       "                  DL                      16    15          99          23    78          15          22          18         286  \n",
       "                  DU                                        27                                                                27  \n",
       "                  Seawater                                                                                              4      4  \n",
       "                  Total                   46    47         211          60   155          50          52          52    4    677  \n",
       "           2020   AH                      45    35           1    34          85                      76                     276  \n",
       "                  DL                      13    13                 5          34                      25                      90  \n",
       "                  Seawater                                                                                              2      2  \n",
       "                  Sediment                                                                                             43     43  \n",
       "                  Total                   58    48           1    39         119                     101               45    411  \n",
       "           Total                         104    95         212    39    60   274          50         153          52   49   1088  \n",
       "Total                         60    34   216   153    51   543    72    74   357     7    52     6   239    25   142  331   2362  "
      ]
     },
     "metadata": {},
     "output_type": "display_data"
    }
   ],
   "source": [
    "pt <- PivotTable$new(tableStyle=list(\"border-color\"=\"black\"),\n",
    "                     headingStyle=list(\"color\"=\"cornsilk\", \"background-color\"=\"grey\", \n",
    "                                       \"font-style\"=\"bold\", \"border-color\"=\"lightgrey\"), \n",
    "                     cellStyle=list(\"color\"=\"black\", \"background-color\"=\"white\", \n",
    "                                    \"border-color\"=\"lightgrey\"),\n",
    "                     totalStyle=list(\"color\"=\"black\", \"background-color\"=\"whte\", \n",
    "                                     \"border-color\"=\"black\", \"font-weight\"=\"bold\"))\n",
    "pt$addData(df)\n",
    "pt$addColumnDataGroups(\"species_code\")\n",
    "pt$addRowDataGroups(\"Biome\")\n",
    "pt$addRowDataGroups(\"collection_year\")\n",
    "pt$addRowDataGroups(\"tissue_type\")\n",
    "pt$defineCalculation(calculationName=\"sample_type\", summariseExpression=\"n()\")\n",
    "pt$evaluatePivot()\n",
    "pt\n"
   ]
  },
  {
   "cell_type": "code",
   "execution_count": 58,
   "id": "c975d5ee",
   "metadata": {},
   "outputs": [],
   "source": [
    "wb <- createWorkbook(creator = Sys.getenv(\"stephanie.rosales\"))\n",
    "addWorksheet(wb, \"Data\")\n",
    "pt$writeToExcelWorksheet(wb=wb, wsName=\"Data\", \n",
    "                         topRowNumber=2, leftMostColumnNumber=2, applyStyles=TRUE)\n",
    "saveWorkbook(wb, file=\"/Users/stephanie.rosales/Documents/Tissueloss/SCTLD_MetaAnalysis/figs/test.xlsx\", overwrite = TRUE)"
   ]
  },
  {
   "cell_type": "code",
   "execution_count": 59,
   "id": "a5f2fbe9",
   "metadata": {},
   "outputs": [
    {
     "data": {
      "text/html": [
       "<table class=\"dataframe\">\n",
       "<caption>A tibble: 5 × 2</caption>\n",
       "<thead>\n",
       "\t<tr><th scope=col>sample_type</th><th scope=col>n</th></tr>\n",
       "\t<tr><th scope=col>&lt;chr&gt;</th><th scope=col>&lt;int&gt;</th></tr>\n",
       "</thead>\n",
       "<tbody>\n",
       "\t<tr><td>Mucus                </td><td> 393</td></tr>\n",
       "\t<tr><td>Seawater             </td><td> 198</td></tr>\n",
       "\t<tr><td>Sediment             </td><td> 133</td></tr>\n",
       "\t<tr><td>TissueSlurry         </td><td>1585</td></tr>\n",
       "\t<tr><td>TissueSlurry_Skeleton</td><td>  53</td></tr>\n",
       "</tbody>\n",
       "</table>\n"
      ],
      "text/latex": [
       "A tibble: 5 × 2\n",
       "\\begin{tabular}{ll}\n",
       " sample\\_type & n\\\\\n",
       " <chr> & <int>\\\\\n",
       "\\hline\n",
       "\t Mucus                 &  393\\\\\n",
       "\t Seawater              &  198\\\\\n",
       "\t Sediment              &  133\\\\\n",
       "\t TissueSlurry          & 1585\\\\\n",
       "\t TissueSlurry\\_Skeleton &   53\\\\\n",
       "\\end{tabular}\n"
      ],
      "text/markdown": [
       "\n",
       "A tibble: 5 × 2\n",
       "\n",
       "| sample_type &lt;chr&gt; | n &lt;int&gt; |\n",
       "|---|---|\n",
       "| Mucus                 |  393 |\n",
       "| Seawater              |  198 |\n",
       "| Sediment              |  133 |\n",
       "| TissueSlurry          | 1585 |\n",
       "| TissueSlurry_Skeleton |   53 |\n",
       "\n"
      ],
      "text/plain": [
       "  sample_type           n   \n",
       "1 Mucus                  393\n",
       "2 Seawater               198\n",
       "3 Sediment               133\n",
       "4 TissueSlurry          1585\n",
       "5 TissueSlurry_Skeleton   53"
      ]
     },
     "metadata": {},
     "output_type": "display_data"
    }
   ],
   "source": [
    "df %>% count(sample_type)"
   ]
  },
  {
   "cell_type": "code",
   "execution_count": 63,
   "id": "0a3d8ec8",
   "metadata": {},
   "outputs": [
    {
     "data": {
      "text/html": [
       "<table class=\"dataframe\">\n",
       "<caption>A tibble: 5 × 2</caption>\n",
       "<thead>\n",
       "\t<tr><th scope=col>tissue_type</th><th scope=col>n</th></tr>\n",
       "\t<tr><th scope=col>&lt;chr&gt;</th><th scope=col>&lt;int&gt;</th></tr>\n",
       "</thead>\n",
       "<tbody>\n",
       "\t<tr><td>AH      </td><td>981</td></tr>\n",
       "\t<tr><td>DL      </td><td>631</td></tr>\n",
       "\t<tr><td>DU      </td><td>325</td></tr>\n",
       "\t<tr><td>Seawater</td><td>198</td></tr>\n",
       "\t<tr><td>Sediment</td><td>133</td></tr>\n",
       "</tbody>\n",
       "</table>\n"
      ],
      "text/latex": [
       "A tibble: 5 × 2\n",
       "\\begin{tabular}{ll}\n",
       " tissue\\_type & n\\\\\n",
       " <chr> & <int>\\\\\n",
       "\\hline\n",
       "\t AH       & 981\\\\\n",
       "\t DL       & 631\\\\\n",
       "\t DU       & 325\\\\\n",
       "\t Seawater & 198\\\\\n",
       "\t Sediment & 133\\\\\n",
       "\\end{tabular}\n"
      ],
      "text/markdown": [
       "\n",
       "A tibble: 5 × 2\n",
       "\n",
       "| tissue_type &lt;chr&gt; | n &lt;int&gt; |\n",
       "|---|---|\n",
       "| AH       | 981 |\n",
       "| DL       | 631 |\n",
       "| DU       | 325 |\n",
       "| Seawater | 198 |\n",
       "| Sediment | 133 |\n",
       "\n"
      ],
      "text/plain": [
       "  tissue_type n  \n",
       "1 AH          981\n",
       "2 DL          631\n",
       "3 DU          325\n",
       "4 Seawater    198\n",
       "5 Sediment    133"
      ]
     },
     "metadata": {},
     "output_type": "display_data"
    }
   ],
   "source": [
    "df %>% \n",
    "filter(Alias!=\"AcroporaDisease\")  %>% \n",
    "count(tissue_type)"
   ]
  },
  {
   "cell_type": "code",
   "execution_count": 61,
   "id": "7711fb8d",
   "metadata": {},
   "outputs": [
    {
     "data": {
      "text/html": [
       "<table class=\"dataframe\">\n",
       "<caption>A tibble: 5 × 3</caption>\n",
       "<thead>\n",
       "\t<tr><th scope=col>primer_names</th><th scope=col>forwardPrimer</th><th scope=col>n</th></tr>\n",
       "\t<tr><th scope=col>&lt;chr&gt;</th><th scope=col>&lt;chr&gt;</th><th scope=col>&lt;int&gt;</th></tr>\n",
       "</thead>\n",
       "<tbody>\n",
       "\t<tr><td>515F_archaea806R                         </td><td>GTGCCAGCMGCCGCGGTAA                      </td><td> 984</td></tr>\n",
       "\t<tr><td>515FCaporaso_806RCaporaso                </td><td>GTGCCAGCMGCCGCGGTAA                      </td><td>  49</td></tr>\n",
       "\t<tr><td>515FPr_806RAp                            </td><td>GTGYCAGCMGCCGCGGTAA                      </td><td>1219</td></tr>\n",
       "\t<tr><td>CS1-515F_CS2-806R                        </td><td>ACACTGACGACATGGTTCTACAGTGCCAGCMGCCGCGGTAA</td><td>  79</td></tr>\n",
       "\t<tr><td>S-D-Bact-0341-b-S-17_S-D-Bact-0785-a-A-21</td><td>CCTACGGGNGGCWGCAG                        </td><td>  31</td></tr>\n",
       "</tbody>\n",
       "</table>\n"
      ],
      "text/latex": [
       "A tibble: 5 × 3\n",
       "\\begin{tabular}{lll}\n",
       " primer\\_names & forwardPrimer & n\\\\\n",
       " <chr> & <chr> & <int>\\\\\n",
       "\\hline\n",
       "\t 515F\\_archaea806R                          & GTGCCAGCMGCCGCGGTAA                       &  984\\\\\n",
       "\t 515FCaporaso\\_806RCaporaso                 & GTGCCAGCMGCCGCGGTAA                       &   49\\\\\n",
       "\t 515FPr\\_806RAp                             & GTGYCAGCMGCCGCGGTAA                       & 1219\\\\\n",
       "\t CS1-515F\\_CS2-806R                         & ACACTGACGACATGGTTCTACAGTGCCAGCMGCCGCGGTAA &   79\\\\\n",
       "\t S-D-Bact-0341-b-S-17\\_S-D-Bact-0785-a-A-21 & CCTACGGGNGGCWGCAG                         &   31\\\\\n",
       "\\end{tabular}\n"
      ],
      "text/markdown": [
       "\n",
       "A tibble: 5 × 3\n",
       "\n",
       "| primer_names &lt;chr&gt; | forwardPrimer &lt;chr&gt; | n &lt;int&gt; |\n",
       "|---|---|---|\n",
       "| 515F_archaea806R                          | GTGCCAGCMGCCGCGGTAA                       |  984 |\n",
       "| 515FCaporaso_806RCaporaso                 | GTGCCAGCMGCCGCGGTAA                       |   49 |\n",
       "| 515FPr_806RAp                             | GTGYCAGCMGCCGCGGTAA                       | 1219 |\n",
       "| CS1-515F_CS2-806R                         | ACACTGACGACATGGTTCTACAGTGCCAGCMGCCGCGGTAA |   79 |\n",
       "| S-D-Bact-0341-b-S-17_S-D-Bact-0785-a-A-21 | CCTACGGGNGGCWGCAG                         |   31 |\n",
       "\n"
      ],
      "text/plain": [
       "  primer_names                             \n",
       "1 515F_archaea806R                         \n",
       "2 515FCaporaso_806RCaporaso                \n",
       "3 515FPr_806RAp                            \n",
       "4 CS1-515F_CS2-806R                        \n",
       "5 S-D-Bact-0341-b-S-17_S-D-Bact-0785-a-A-21\n",
       "  forwardPrimer                             n   \n",
       "1 GTGCCAGCMGCCGCGGTAA                        984\n",
       "2 GTGCCAGCMGCCGCGGTAA                         49\n",
       "3 GTGYCAGCMGCCGCGGTAA                       1219\n",
       "4 ACACTGACGACATGGTTCTACAGTGCCAGCMGCCGCGGTAA   79\n",
       "5 CCTACGGGNGGCWGCAG                           31"
      ]
     },
     "metadata": {},
     "output_type": "display_data"
    }
   ],
   "source": [
    "df %>% count(primer_names, forwardPrimer)"
   ]
  },
  {
   "cell_type": "code",
   "execution_count": 64,
   "id": "c224e7bf",
   "metadata": {},
   "outputs": [
    {
     "data": {
      "text/html": [
       "<table class=\"dataframe\">\n",
       "<caption>A tibble: 5 × 2</caption>\n",
       "<thead>\n",
       "\t<tr><th scope=col>country</th><th scope=col>n</th></tr>\n",
       "\t<tr><th scope=col>&lt;chr&gt;</th><th scope=col>&lt;int&gt;</th></tr>\n",
       "</thead>\n",
       "<tbody>\n",
       "\t<tr><td>USA:FLKeys       </td><td>1235</td></tr>\n",
       "\t<tr><td>USA:Florida      </td><td>  49</td></tr>\n",
       "\t<tr><td>USA:FTL          </td><td> 256</td></tr>\n",
       "\t<tr><td>USA:Miami        </td><td> 365</td></tr>\n",
       "\t<tr><td>USA:VirginIslands</td><td> 457</td></tr>\n",
       "</tbody>\n",
       "</table>\n"
      ],
      "text/latex": [
       "A tibble: 5 × 2\n",
       "\\begin{tabular}{ll}\n",
       " country & n\\\\\n",
       " <chr> & <int>\\\\\n",
       "\\hline\n",
       "\t USA:FLKeys        & 1235\\\\\n",
       "\t USA:Florida       &   49\\\\\n",
       "\t USA:FTL           &  256\\\\\n",
       "\t USA:Miami         &  365\\\\\n",
       "\t USA:VirginIslands &  457\\\\\n",
       "\\end{tabular}\n"
      ],
      "text/markdown": [
       "\n",
       "A tibble: 5 × 2\n",
       "\n",
       "| country &lt;chr&gt; | n &lt;int&gt; |\n",
       "|---|---|\n",
       "| USA:FLKeys        | 1235 |\n",
       "| USA:Florida       |   49 |\n",
       "| USA:FTL           |  256 |\n",
       "| USA:Miami         |  365 |\n",
       "| USA:VirginIslands |  457 |\n",
       "\n"
      ],
      "text/plain": [
       "  country           n   \n",
       "1 USA:FLKeys        1235\n",
       "2 USA:Florida         49\n",
       "3 USA:FTL            256\n",
       "4 USA:Miami          365\n",
       "5 USA:VirginIslands  457"
      ]
     },
     "metadata": {},
     "output_type": "display_data"
    }
   ],
   "source": [
    "df %>% count(country)"
   ]
  }
 ],
 "metadata": {
  "kernelspec": {
   "display_name": "R",
   "language": "R",
   "name": "ir"
  },
  "language_info": {
   "codemirror_mode": "r",
   "file_extension": ".r",
   "mimetype": "text/x-r-source",
   "name": "R",
   "pygments_lexer": "r",
   "version": "4.0.5"
  }
 },
 "nbformat": 4,
 "nbformat_minor": 5
}
