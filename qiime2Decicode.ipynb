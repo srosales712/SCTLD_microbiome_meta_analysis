{
 "cells": [
  {
   "cell_type": "code",
   "execution_count": 50,
   "id": "7d877768",
   "metadata": {},
   "outputs": [
    {
     "name": "stdout",
     "output_type": "stream",
     "text": [
      "\u001b[32mSaved FeatureTable[Frequency] to: /Users/stephanie.rosales/Documents/Tissueloss/SCTLD_MetaAnalysis/out_picrust/tableV_BacArc_99_SCTLD_coral.qza\u001b[0m\n",
      "\u001b[0m"
     ]
    }
   ],
   "source": [
    "!qiime feature-table filter-samples \\\n",
    "  --i-table /Users/stephanie.rosales/Documents/Tissueloss/SCTLD_MetaAnalysis/QiimeOutPut/2022_Process/tableV_BacArc_99_SCTLD.qza \\\n",
    "  --p-no-exclude-ids \\\n",
    "  --p-where \"[sample_type] IN ('TissueSlurry', 'Mucus', 'TissueSlurry_Skeleton')\" \\\n",
    "  --m-metadata-file /Users/stephanie.rosales/Documents/Tissueloss/SCTLD_MetaAnalysis/metadata_for_qiime/SCTLD_meta_analysis_metadata.txt \\\n",
    "  --o-filtered-table /Users/stephanie.rosales/Documents/Tissueloss/SCTLD_MetaAnalysis/out_picrust/tableV_BacArc_99_SCTLD_coral.qza\n"
   ]
  },
  {
   "cell_type": "code",
   "execution_count": 51,
   "id": "1df2c7f3",
   "metadata": {},
   "outputs": [
    {
     "name": "stdout",
     "output_type": "stream",
     "text": [
      "\u001b[32mSaved FeatureTable[Frequency] to: /Users/stephanie.rosales/Documents/Tissueloss/SCTLD_MetaAnalysis/out_DEICODE/tableV_BacArc_99_SCTLD_coral_biome.qza\u001b[0m\n",
      "\u001b[0m"
     ]
    }
   ],
   "source": [
    "!qiime feature-table filter-samples \\\n",
    "  --i-table /Users/stephanie.rosales/Documents/Tissueloss/SCTLD_MetaAnalysis/out_picrust/tableV_BacArc_99_SCTLD_coral.qza \\\n",
    "  --p-no-exclude-ids \\\n",
    "   --p-where \"Biome='Field'\" \\\n",
    "  --m-metadata-file /Users/stephanie.rosales/Documents/Tissueloss/SCTLD_MetaAnalysis/metadata_for_qiime/SCTLD_meta_analysis_metadata.txt \\\n",
    "  --o-filtered-table /Users/stephanie.rosales/Documents/Tissueloss/SCTLD_MetaAnalysis/out_DEICODE/tableV_BacArc_99_SCTLD_coral_biome.qza\n"
   ]
  },
  {
   "cell_type": "code",
   "execution_count": 52,
   "id": "acdc51fa",
   "metadata": {},
   "outputs": [
    {
     "name": "stdout",
     "output_type": "stream",
     "text": [
      "\u001b[32mSaved FeatureTable[Frequency] to: /Users/stephanie.rosales/Documents/Tissueloss/SCTLD_MetaAnalysis/out_DEICODE/tableV_BacArc_99_SCTLD_coral_biomeA.qza\u001b[0m\n",
      "\u001b[0m"
     ]
    }
   ],
   "source": [
    "!qiime feature-table filter-samples \\\n",
    "  --i-table /Users/stephanie.rosales/Documents/Tissueloss/SCTLD_MetaAnalysis/out_picrust/tableV_BacArc_99_SCTLD_coral.qza \\\n",
    "  --p-no-exclude-ids \\\n",
    "   --p-where \"Biome='Aquaria'\" \\\n",
    "  --m-metadata-file /Users/stephanie.rosales/Documents/Tissueloss/SCTLD_MetaAnalysis/metadata_for_qiime/SCTLD_meta_analysis_metadata.txt \\\n",
    "  --o-filtered-table /Users/stephanie.rosales/Documents/Tissueloss/SCTLD_MetaAnalysis/out_DEICODE/tableV_BacArc_99_SCTLD_coral_biomeA.qza\n"
   ]
  },
  {
   "cell_type": "code",
   "execution_count": 2,
   "id": "443fa9eb",
   "metadata": {},
   "outputs": [
    {
     "name": "stdout",
     "output_type": "stream",
     "text": [
      "\u001b[32mSaved PCoAResults % Properties('biplot') to: /Users/stephanie.rosales/Documents/Tissueloss/SCTLD_MetaAnalysis/out_DEICODE/ordination_F.qza\u001b[0m\n",
      "\u001b[32mSaved DistanceMatrix to: /Users/stephanie.rosales/Documents/Tissueloss/SCTLD_MetaAnalysis/out_DEICODE/distance_F.qza\u001b[0m\n",
      "\u001b[0m"
     ]
    }
   ],
   "source": [
    "!qiime deicode rpca \\\n",
    "    --i-table /Users/stephanie.rosales/Documents/Tissueloss/SCTLD_MetaAnalysis/out_DEICODE/tableV_BacArc_99_SCTLD_coral_biome.qza \\\n",
    "    --p-min-feature-count 30 \\\n",
    "    --p-min-sample-count 1000 \\\n",
    "    --o-biplot /Users/stephanie.rosales/Documents/Tissueloss/SCTLD_MetaAnalysis/out_DEICODE/ordination_F.qza \\\n",
    "    --o-distance-matrix /Users/stephanie.rosales/Documents/Tissueloss/SCTLD_MetaAnalysis/out_DEICODE/distance_F.qza"
   ]
  },
  {
   "cell_type": "code",
   "execution_count": 3,
   "id": "5fb1578b",
   "metadata": {},
   "outputs": [
    {
     "name": "stdout",
     "output_type": "stream",
     "text": [
      "\u001b[32mSaved PCoAResults % Properties('biplot') to: /Users/stephanie.rosales/Documents/Tissueloss/SCTLD_MetaAnalysis/out_DEICODE/ordination_A.qza\u001b[0m\n",
      "\u001b[32mSaved DistanceMatrix to: /Users/stephanie.rosales/Documents/Tissueloss/SCTLD_MetaAnalysis/out_DEICODE/distance_A.qza\u001b[0m\n",
      "\u001b[0m"
     ]
    }
   ],
   "source": [
    "!qiime deicode rpca \\\n",
    "    --i-table /Users/stephanie.rosales/Documents/Tissueloss/SCTLD_MetaAnalysis/out_DEICODE/tableV_BacArc_99_SCTLD_coral_biomeA.qza \\\n",
    "    --p-min-feature-count 30 \\\n",
    "    --p-min-sample-count 1000 \\\n",
    "    --o-biplot /Users/stephanie.rosales/Documents/Tissueloss/SCTLD_MetaAnalysis/out_DEICODE/ordination_A.qza \\\n",
    "    --o-distance-matrix /Users/stephanie.rosales/Documents/Tissueloss/SCTLD_MetaAnalysis/out_DEICODE/distance_A.qza\n",
    "\n"
   ]
  },
  {
   "cell_type": "code",
   "execution_count": 4,
   "id": "418f2ad6",
   "metadata": {},
   "outputs": [
    {
     "name": "stdout",
     "output_type": "stream",
     "text": [
      "\u001b[32mSaved PCoAResults % Properties('biplot') to: /Users/stephanie.rosales/Documents/Tissueloss/SCTLD_MetaAnalysis/out_DEICODE/ordination_B.qza\u001b[0m\n",
      "\u001b[32mSaved DistanceMatrix to: /Users/stephanie.rosales/Documents/Tissueloss/SCTLD_MetaAnalysis/out_DEICODE/distance_B.qza\u001b[0m\n",
      "\u001b[0m"
     ]
    }
   ],
   "source": [
    "!qiime deicode rpca \\\n",
    "    --i-table /Users/stephanie.rosales/Documents/Tissueloss/SCTLD_MetaAnalysis/out_picrust/tableV_BacArc_99_SCTLD_coral.qza \\\n",
    "    --p-min-feature-count 60 \\\n",
    "    --p-min-sample-count 1000 \\\n",
    "    --o-biplot /Users/stephanie.rosales/Documents/Tissueloss/SCTLD_MetaAnalysis/out_DEICODE/ordination_B.qza \\\n",
    "    --o-distance-matrix /Users/stephanie.rosales/Documents/Tissueloss/SCTLD_MetaAnalysis/out_DEICODE/distance_B.qza\n"
   ]
  },
  {
   "cell_type": "code",
   "execution_count": 1,
   "id": "eea365dc",
   "metadata": {},
   "outputs": [
    {
     "name": "stdout",
     "output_type": "stream",
     "text": [
      "\u001b[32mSaved FeatureTable[Frequency] to: /Users/stephanie.rosales/Documents/Tissueloss/SCTLD_MetaAnalysis/out_picrust/tableV_BacArc_99_SCTLD_coralfill.qza\u001b[0m\n",
      "\u001b[0m"
     ]
    }
   ],
   "source": [
    "#filter ASV so that an ASV is found in at least 10 samples to reduce noise\n",
    "!qiime feature-table filter-features \\\n",
    "  --i-table /Users/stephanie.rosales/Documents/Tissueloss/SCTLD_MetaAnalysis/out_picrust/tableV_BacArc_99_SCTLD_coral.qza \\\n",
    "  --p-min-samples 100 \\\n",
    "  --o-filtered-table /Users/stephanie.rosales/Documents/Tissueloss/SCTLD_MetaAnalysis/out_picrust/tableV_BacArc_99_SCTLD_coralfill.qza\n",
    "\n"
   ]
  },
  {
   "cell_type": "code",
   "execution_count": 2,
   "id": "83714053",
   "metadata": {},
   "outputs": [
    {
     "name": "stdout",
     "output_type": "stream",
     "text": [
      "\u001b[32mSaved Visualization to: /Users/stephanie.rosales/Documents/Tissueloss/SCTLD_MetaAnalysis/out_picrust/tableV_BacArc_99_SCTLD_coralfill.qzv\u001b[0m\n",
      "\u001b[0m"
     ]
    }
   ],
   "source": [
    "#summarize data to view counts distribution\n",
    "!qiime feature-table summarize \\\n",
    "--i-table /Users/stephanie.rosales/Documents/Tissueloss/SCTLD_MetaAnalysis/out_picrust/tableV_BacArc_99_SCTLD_coralfill.qza \\\n",
    "--m-sample-metadata-file /Users/stephanie.rosales/Documents/Tissueloss/SCTLD_MetaAnalysis/metadata_for_qiime/SCTLD_meta_analysis_metadata.txt \\\n",
    "--o-visualization /Users/stephanie.rosales/Documents/Tissueloss/SCTLD_MetaAnalysis/out_picrust/tableV_BacArc_99_SCTLD_coralfill.qzv\n",
    "\n"
   ]
  },
  {
   "cell_type": "code",
   "execution_count": 3,
   "id": "eb394c7a",
   "metadata": {},
   "outputs": [
    {
     "name": "stdout",
     "output_type": "stream",
     "text": [
      "\u001b[32mSaved FeatureTable[Frequency] to: /Users/stephanie.rosales/Documents/Tissueloss/SCTLD_MetaAnalysis/out_picrust/pi.qza\u001b[0m\n",
      "\u001b[32mSaved FeatureTable[Frequency] to: /Users/stephanie.rosales/Documents/Tissueloss/SCTLD_MetaAnalysis/out_picrust/pi.qza\u001b[0m\n",
      "\u001b[32mSaved FeatureTable[Frequency] to: /Users/stephanie.rosales/Documents/Tissueloss/SCTLD_MetaAnalysis/out_picrust/pi.qza\u001b[0m\n",
      "\u001b[0m"
     ]
    }
   ],
   "source": [
    "!qiime picrust2 full-pipeline \\\n",
    "--i-table /Users/stephanie.rosales/Documents/Tissueloss/SCTLD_MetaAnalysis/out_picrust/tableV_BacArc_99_SCTLD_coralfill.qza \\\n",
    "--i-seq /Users/stephanie.rosales/Documents/Tissueloss/SCTLD_MetaAnalysis/QiimeOutPut/rep-seqs-dn-99.qza\\\n",
    " --p-threads 4 \\\n",
    "--o-ko-metagenome /Users/stephanie.rosales/Documents/Tissueloss/SCTLD_MetaAnalysis/out_picrust/pi \\\n",
    " --o-ec-metagenome /Users/stephanie.rosales/Documents/Tissueloss/SCTLD_MetaAnalysis/out_picrust/pi \\\n",
    "--o-pathway-abundance /Users/stephanie.rosales/Documents/Tissueloss/SCTLD_MetaAnalysis/out_picrust/pi\n",
    "\n"
   ]
  },
  {
   "cell_type": "code",
   "execution_count": 4,
   "id": "95bd5271",
   "metadata": {},
   "outputs": [
    {
     "name": "stdout",
     "output_type": "stream",
     "text": [
      "\u001b[32mSaved FeatureTable[Frequency] to: /Users/stephanie.rosales/Documents/Tissueloss/SCTLD_MetaAnalysis/out_picrust/picrust_Ko_meta.qza\u001b[0m\n",
      "\u001b[32mSaved FeatureTable[Frequency] to: /Users/stephanie.rosales/Documents/Tissueloss/SCTLD_MetaAnalysis/out_picrust/picrust_metagenome_meta.qza\u001b[0m\n",
      "\u001b[32mSaved FeatureTable[Frequency] to: /Users/stephanie.rosales/Documents/Tissueloss/SCTLD_MetaAnalysis/out_picrust/pi_metacycl_meta.qza\u001b[0m\n",
      "\u001b[0m"
     ]
    }
   ],
   "source": [
    "!qiime picrust2 full-pipeline \\\n",
    "--i-table /Users/stephanie.rosales/Documents/Tissueloss/SCTLD_MetaAnalysis/out_picrust/tableV_BacArc_99_SCTLD_coralfill.qza \\\n",
    "--i-seq /Users/stephanie.rosales/Documents/Tissueloss/SCTLD_MetaAnalysis/QiimeOutPut/rep-seqs-dn-99.qza\\\n",
    "--p-threads 4 \\\n",
    "--o-ko-metagenome /Users/stephanie.rosales/Documents/Tissueloss/SCTLD_MetaAnalysis/out_picrust/picrust_Ko_meta \\\n",
    "--o-ec-metagenome /Users/stephanie.rosales/Documents/Tissueloss/SCTLD_MetaAnalysis/out_picrust/picrust_metagenome_meta \\\n",
    "--o-pathway-abundance /Users/stephanie.rosales/Documents/Tissueloss/SCTLD_MetaAnalysis/out_picrust/pi_metacycl_meta\n",
    "\n"
   ]
  },
  {
   "cell_type": "code",
   "execution_count": 5,
   "id": "fbd14cb1",
   "metadata": {},
   "outputs": [
    {
     "name": "stdout",
     "output_type": "stream",
     "text": [
      "\u001b[32mSaved Visualization to: /Users/stephanie.rosales/Documents/Tissueloss/SCTLD_MetaAnalysis/out_picrust/pi.qzv\u001b[0m\n",
      "\u001b[0m"
     ]
    }
   ],
   "source": [
    "!qiime feature-table summarize \\\n",
    "   --i-table /Users/stephanie.rosales/Documents/Tissueloss/SCTLD_MetaAnalysis/out_picrust/pi.qza \\\n",
    "   --o-visualization /Users/stephanie.rosales/Documents/Tissueloss/SCTLD_MetaAnalysis/out_picrust/pi.qzv\n"
   ]
  }
 ],
 "metadata": {
  "kernelspec": {
   "display_name": "Python 3 (ipykernel)",
   "language": "python",
   "name": "python3"
  },
  "language_info": {
   "codemirror_mode": {
    "name": "ipython",
    "version": 3
   },
   "file_extension": ".py",
   "mimetype": "text/x-python",
   "name": "python",
   "nbconvert_exporter": "python",
   "pygments_lexer": "ipython3",
   "version": "3.8.12"
  }
 },
 "nbformat": 4,
 "nbformat_minor": 5
}
